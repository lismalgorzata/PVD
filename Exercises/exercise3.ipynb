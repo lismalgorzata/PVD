{
 "cells": [
  {
   "cell_type": "markdown",
   "metadata": {},
   "source": [
    "# 3: Przetwarzanie danych - łączenie, sortowanie i grupowanie\n",
    "#### Połącz dane z plików krk-airlines.csv, krk-flights.csv i krk-passengers.csv w jednym obiekcie DataFrame. Następnie utwórz wykres słupkowy przedstawiający liczbę osób podróżujących do Londynu i Paryża."
   ]
  },
  {
   "cell_type": "markdown",
   "metadata": {},
   "source": [
    "The table below shows the number of visits to a certain online store and the number of products purchased.\n",
    "\n",
    "Day | Browser | Visits | Purchase\n",
    "----|---------|--------|---------\n",
    "Monday | Edge | 15 | 3\n",
    "Monday | Chrome | 17 | 1\n",
    "Monday | Safari | 11 | 2\n",
    "Friday | Edge | 10 | 2\n",
    "Friday | Safari | 23 | 7\n",
    "Sunday | Chrome | 34 | 12\n"
   ]
  },
  {
   "cell_type": "markdown",
   "metadata": {},
   "source": [
    "To calculate and display the total number of visits on individual days of the week, specify the result columns, the columns by which the data are grouped and the aggregation function:"
   ]
  },
  {
   "cell_type": "markdown",
   "metadata": {},
   "source": [
    "To calculate and display the total number of visits on individual days of the week, specify the result columns, the columns by which the data are grouped and the aggregation function:"
   ]
  },
  {
   "cell_type": "markdown",
   "metadata": {},
   "source": [
    "To calculate and display the total number of visits on individual days of the week, specify the result columns, the columns by which the data are grouped and the aggregation function:"
   ]
  },
  {
   "cell_type": "markdown",
   "metadata": {},
   "source": [
    "Calculate and display the number of web browsers used on specific days of the week."
   ]
  },
  {
   "cell_type": "markdown",
   "metadata": {},
   "source": [
    "Calculate and display the number of web browsers used on specific days of the week. Sort the results in descending order."
   ]
  },
  {
   "cell_type": "markdown",
   "metadata": {},
   "source": [
    "The 'employees.csv' file contains data of employees of one of the IT companies. Display employee list. Then, calculate and display:\n",
    "\n",
    "1. Number of women and men\n",
    "1. Number of employees by country\n",
    "1. Number of women and men by country\n",
    "1. Average age of employees\n",
    "1. Average age of women and men\n",
    "1. Average salary in the company.\n",
    "1. Average salary of women and men\n",
    "1. Minimum age of women and men by country. Sort the results in descending order.\n",
    "1. Median salary of women and men by country.\n",
    "1. Median salary of women and men by country. Save the results to a csv file."
   ]
  },
  {
   "cell_type": "markdown",
   "metadata": {},
   "source": [
    "The table below contains a list of products ordered in the online store.\n",
    "\n",
    "OrderNo | Date | Product | Quantity\n",
    "--------|------|---------|:-------:\n",
    "295 | 2024-02-09 | chair | 6\n",
    "295 | 2024-02-12 | lamp  | 6\n",
    "312 | 2024-02-17 | desk | 2\n",
    "312 | 2024-02-17 | lamp | 1\n",
    "314 | 2024-02-18 | desk | 4"
   ]
  },
  {
   "cell_type": "markdown",
   "metadata": {},
   "source": [
    "The table below contains the price list of products in this store. As you can see, both tables contain product names. You can therefore combine them into one common data collection.\n",
    "\n",
    "Product | Price\n",
    "--------|------:\n",
    "desk | 450.00\n",
    "chair | 275.00\n",
    "lamp | 79.00"
   ]
  },
  {
   "cell_type": "markdown",
   "metadata": {},
   "source": [
    "First, you need to create data collections corresponding to the contents of the tables. Now, based on the data collections, create DataFrames."
   ]
  },
  {
   "cell_type": "markdown",
   "metadata": {},
   "source": [
    "Finally, you join both DataFrames and display their common content. Note the use of the 'merge' function. You must provide the names of both DataFrames and the name of the column that contains the common data."
   ]
  },
  {
   "cell_type": "markdown",
   "metadata": {},
   "source": [
    "You can also complete the final DataFrame by adding a new column containing the amount to be paid for the ordered products."
   ]
  },
  {
   "cell_type": "markdown",
   "metadata": {},
   "source": [
    "It turns out that the store offers a discount on selected products. Currently, the discount on desks is 20%, while the discount on lamps is 30%. Create another DataFrame containing a list of discounted products. Then, join the discounted data with the previous data collections. Calculate and display the amounts to pay, after taking into account the discount."
   ]
  },
  {
   "cell_type": "markdown",
   "metadata": {},
   "source": [
    "The data below contains the exam results and whether the exam was passed.\n",
    "\n",
    "Name     | Total | Result\n",
    "---------|-------|---------\n",
    "Olivier  | 90    | passed\n",
    "Naomi    | 42    | failed\n",
    "Olivia   | 71    | passed\n",
    "Nolan    | 100   | passed\n",
    "Dylan    | 39    | failed"
   ]
  },
  {
   "cell_type": "markdown",
   "metadata": {},
   "source": [
    "Follow the instructions below. After completing each point, display the contents of the DataFrame.\n",
    "\n",
    "1. Based on the data in the table, create the content of the DataFrame.\n",
    "1. Sort the list of people alphabetically.\n",
    "1. Sort the list of people according to their points, starting with the highest value.\n",
    "1. Sort the list of people by their score, starting with the people who passed the exam.\n",
    "1. Sort the list of people by their score, starting with those who passed the exam and then by those names alphabetically. Hint. Use the link above to see how to sort data by more than one column."
   ]
  },
  {
   "cell_type": "markdown",
   "metadata": {},
   "source": [
    "Add the 'University' column to your exam DataFrame. Assign the first two people the name 'UEK' and the remaining three people the name 'AGH'. Display updated DataFrame."
   ]
  }
 ],
 "metadata": {
  "language_info": {
   "name": "python"
  }
 },
 "nbformat": 4,
 "nbformat_minor": 2
}
