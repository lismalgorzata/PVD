{
 "cells": [
  {
   "cell_type": "markdown",
   "metadata": {},
   "source": [
    "# 5: Przetwarzanie danych w arkuszu kalkulacyjnym\n",
    "- Otwórz plik medical-data.xlsx i wykorzystaj tabele do wykonania następujących operacji:\n",
    "- Wyświetl listę danych kobiet.\n",
    "- Wyświetl listę osób z Polski i Niemiec.\n",
    "- Oblicz liczbę kobiet ze Słowacji.\n",
    "- Wyświetl listę osób w wieku od 18 do 25 lat.\n",
    "- Wyświetl listę osób o wzroście między 160 a 180 cm i wadze między 55 a 90 kg.\n",
    "- Oblicz liczbę osób ważących co najmniej 75 kg.\n",
    "- Wyświetl listę osób o prawidłowym BMI.\n",
    "- Oblicz liczbę osób ze Słowacji, których BMI jest zbyt wysokie.\n",
    "- Oblicz najniższe BMI w grupie osób z Węgier.\n",
    "- Wyświetl listę osób z Niemiec, posortowaną według wzrostu, poczynając od najwyższej osoby."
   ]
  }
 ],
 "metadata": {
  "language_info": {
   "name": "python"
  }
 },
 "nbformat": 4,
 "nbformat_minor": 2
}
