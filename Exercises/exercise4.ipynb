{
 "cells": [
  {
   "cell_type": "markdown",
   "metadata": {},
   "source": [
    "# 4: Przetwarzanie danych za pomocą Power Query\n",
    "#### Zaimportuj dane z pliku employees.csv do arkusza kalkulacyjnego za pomocą Power Query. Następnie:\n",
    "1. Wyświetl posortowane dane według wynagrodzenia, rozpoczynając od najwyższego.\n",
    "1. Wyświetl pracowników pochodzących z Polski, którzy mają co najmniej 50 lat.\n",
    "1. Oblicz liczbę kobiet młodszych niż 50 lat."
   ]
  },
  {
   "cell_type": "markdown",
   "metadata": {},
   "source": [
    "#### Zaimportuj dane z pliku cities-in-poland.csv za pomocą Power Query. Następnie utwórz następujące wykresy:\n",
    "1. Całkowitą liczbę mieszkańców w każdym województwie.\n",
    "1. Powierzchnię największego miasta w każdym województwie."
   ]
  },
  {
   "cell_type": "markdown",
   "metadata": {},
   "source": [
    "#### Zaimportuj dane z plików krk-airlines.csv, krk-flights.csv i krk-passengers.csv zawierających informacje o lotach z lotniska w Krakowie za pomocą Power Query. Następnie połącz dane i utwórz następujące wykresy:\n",
    "1. Liczbę osób podróżujących do Londynu i Paryża.\n",
    "1. Liczbę mężczyzn i kobiet podróżujących każdą linią lotniczą."
   ]
  }
 ],
 "metadata": {
  "language_info": {
   "name": "python"
  }
 },
 "nbformat": 4,
 "nbformat_minor": 2
}
