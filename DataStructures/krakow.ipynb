{
 "cells": [
  {
   "cell_type": "code",
   "execution_count": 1,
   "metadata": {},
   "outputs": [],
   "source": [
    "import pandas as pd\n"
   ]
  },
  {
   "cell_type": "code",
   "execution_count": 2,
   "metadata": {},
   "outputs": [],
   "source": [
    "population_data = {\n",
    "    1985: 706000,\n",
    "    1990: 737000,\n",
    "    1995: 741000,\n",
    "    2000: 757000,\n",
    "    2005: 761000,\n",
    "    2010: 759000,\n",
    "    2015: 769498,\n",
    "    2019: 774839,\n",
    "    2020: 783562,\n",
    "    2021: 793828,\n",
    "    2022: 800967,\n",
    "    2023: 804237\n",
    "}"
   ]
  },
  {
   "cell_type": "code",
   "execution_count": 4,
   "metadata": {},
   "outputs": [
    {
     "data": {
      "text/plain": [
       "1985    706000\n",
       "1990    737000\n",
       "1995    741000\n",
       "2000    757000\n",
       "2005    761000\n",
       "2010    759000\n",
       "2015    769498\n",
       "2019    774839\n",
       "2020    783562\n",
       "2021    793828\n",
       "2022    800967\n",
       "2023    804237\n",
       "dtype: int64"
      ]
     },
     "execution_count": 4,
     "metadata": {},
     "output_type": "execute_result"
    }
   ],
   "source": [
    "population_series = pd.Series(population_data)\n",
    "population_series"
   ]
  },
  {
   "cell_type": "code",
   "execution_count": 5,
   "metadata": {},
   "outputs": [
    {
     "name": "stdout",
     "output_type": "stream",
     "text": [
      "Population Data:\n",
      "1985    706000\n",
      "1990    737000\n",
      "1995    741000\n",
      "2000    757000\n",
      "2005    761000\n",
      "2010    759000\n",
      "2015    769498\n",
      "2019    774839\n",
      "2020    783562\n",
      "2021    793828\n",
      "2022    800967\n",
      "2023    804237\n",
      "dtype: int64\n",
      "\n",
      "Descriptive Statistics:\n",
      "count        12.000000\n",
      "mean     765660.916667\n",
      "std       28726.871932\n",
      "min      706000.000000\n",
      "25%      753000.000000\n",
      "50%      765249.000000\n",
      "75%      786128.500000\n",
      "max      804237.000000\n",
      "dtype: float64\n"
     ]
    }
   ],
   "source": [
    "# Display the Series along with descriptive statistics\n",
    "print(\"Population Data:\")\n",
    "print(population_series)\n",
    "print(\"\\nDescriptive Statistics:\")\n",
    "print(population_series.describe())"
   ]
  },
  {
   "cell_type": "code",
   "execution_count": 6,
   "metadata": {},
   "outputs": [
    {
     "name": "stdout",
     "output_type": "stream",
     "text": [
      "\n",
      "Population in Krakow in 2005: 761000\n"
     ]
    }
   ],
   "source": [
    "# Population in Krakow in 2005\n",
    "print(\"\\nPopulation in Krakow in 2005:\", population_series[2005])"
   ]
  },
  {
   "cell_type": "code",
   "execution_count": 7,
   "metadata": {},
   "outputs": [
    {
     "name": "stdout",
     "output_type": "stream",
     "text": [
      "\n",
      "Average population in Krakow between 1985 and 2023: 765660.9166666666\n"
     ]
    }
   ],
   "source": [
    "# Average population in Krakow between 1985 and 2023\n",
    "average_population = population_series.mean()\n",
    "print(\"\\nAverage population in Krakow between 1985 and 2023:\", average_population)"
   ]
  }
 ],
 "metadata": {
  "kernelspec": {
   "display_name": "Python 3",
   "language": "python",
   "name": "python3"
  },
  "language_info": {
   "codemirror_mode": {
    "name": "ipython",
    "version": 3
   },
   "file_extension": ".py",
   "mimetype": "text/x-python",
   "name": "python",
   "nbconvert_exporter": "python",
   "pygments_lexer": "ipython3",
   "version": "3.11.4"
  }
 },
 "nbformat": 4,
 "nbformat_minor": 2
}
